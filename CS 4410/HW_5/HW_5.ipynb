{
  "nbformat": 4,
  "nbformat_minor": 0,
  "metadata": {
    "colab": {
      "provenance": [],
      "toc_visible": true,
      "authorship_tag": "ABX9TyNnKgQBi3SpvMV0Z+b+PHIB",
      "include_colab_link": true
    },
    "kernelspec": {
      "name": "python3",
      "display_name": "Python 3"
    },
    "language_info": {
      "name": "python"
    }
  },
  "cells": [
    {
      "cell_type": "markdown",
      "metadata": {
        "id": "view-in-github",
        "colab_type": "text"
      },
      "source": [
        "<a href=\"https://colab.research.google.com/github/AlexK2003/Class-Assignments/blob/main/CS%204410/HW_5/HW_5.ipynb\" target=\"_parent\"><img src=\"https://colab.research.google.com/assets/colab-badge.svg\" alt=\"Open In Colab\"/></a>"
      ]
    },
    {
      "cell_type": "markdown",
      "source": [
        "In the k-NN classification example,\n",
        "we demonstrated hyperparameter tuning to choose the best value of k. In k-means cluster-\n",
        "ing, a challenge is determining the appropriate k value for clustering the data. One tech-\n",
        "nique for determining k is called the elbow method. Investigate the elbow method, then\n",
        "use it with the Digits and Iris datasets to determine whether this technique yields the cor-\n",
        "rect number of classes for each dataset.\n",
        "\n",
        "Additional instructions: Only use the elbow method with the iris dataset"
      ],
      "metadata": {
        "id": "pZ-LzEW7KvrM"
      }
    },
    {
      "cell_type": "markdown",
      "source": [
        "# 15.18"
      ],
      "metadata": {
        "id": "hlzOlwTrOWep"
      }
    },
    {
      "cell_type": "markdown",
      "source": [
        "##Import"
      ],
      "metadata": {
        "id": "sMhEKCFLKrfv"
      }
    },
    {
      "cell_type": "code",
      "source": [
        "from sklearn.datasets import load_iris\n",
        "import matplotlib.pyplot as plt\n",
        "\n",
        "iris = load_iris()"
      ],
      "metadata": {
        "id": "KqJ2KccFK4F_"
      },
      "execution_count": 10,
      "outputs": []
    },
    {
      "cell_type": "markdown",
      "source": [
        "## Training multiple k-means models"
      ],
      "metadata": {
        "id": "wLPIrOhiL0uX"
      }
    },
    {
      "cell_type": "code",
      "source": [
        "from sklearn.cluster import KMeans\n",
        "\n",
        "k_values = range(1, 11)  # Trying k values from 1 to 10\n",
        "wcss_values = []\n",
        "\n",
        "for k in k_values:\n",
        "    kmeans = KMeans(n_clusters=k, random_state=42)\n",
        "    kmeans.fit(iris.data)\n",
        "    wcss_values.append(kmeans.inertia_)\n",
        "\n",
        "\n",
        "print(wcss_values)"
      ],
      "metadata": {
        "colab": {
          "base_uri": "https://localhost:8080/"
        },
        "id": "-IIg3pKMMJQG",
        "outputId": "91ab2ca5-3f1c-4295-db9c-677de9bdd6d2"
      },
      "execution_count": 2,
      "outputs": [
        {
          "output_type": "stream",
          "name": "stdout",
          "text": [
            "[681.3705999999996, 152.34795176035797, 78.85566582597727, 57.350880212954756, 46.47223015873018, 39.066035353535376, 34.305815295815314, 30.476222943722966, 29.906246659137977, 28.545297810033116]\n"
          ]
        }
      ]
    },
    {
      "cell_type": "markdown",
      "source": [
        "##Plotting:"
      ],
      "metadata": {
        "id": "H8TNPvBUNDY0"
      }
    },
    {
      "cell_type": "code",
      "source": [
        "import matplotlib.pyplot as plt\n",
        "\n",
        "plt.plot(k_values, wcss_values, linestyle=\"-\", color=plt.cm.winter(0.4), label=\"Accuracy\")\n",
        "plt.xlabel(\"Number of Clusters\") # Set x-axis label\n",
        "plt.ylabel(\"WCSS\") # Set y-axis label\n",
        "plt.title(\"Elbow Method\") # Set title\n",
        "plt.show()"
      ],
      "metadata": {
        "colab": {
          "base_uri": "https://localhost:8080/",
          "height": 472
        },
        "id": "aLbAbSLjMkMj",
        "outputId": "e6e8a9d2-c65d-4985-88ce-2d0833f17d86"
      },
      "execution_count": 15,
      "outputs": [
        {
          "output_type": "display_data",
          "data": {
            "text/plain": [
              "<Figure size 640x480 with 1 Axes>"
            ],
            "image/png": "[encoded data removed]"
          },
          "metadata": {}
        }
      ]
    },
    {
      "cell_type": "markdown",
      "source": [
        "# 15.21"
      ],
      "metadata": {
        "id": "8EIe1ZecOhjx"
      }
    },
    {
      "cell_type": "markdown",
      "source": [
        "Get MNIST dataset as the instructions in 15.21. Use PCA dimensional reduction for logistic regression on MNIST to show how much PCA can help to speed up logistic regression.  For example, show the time difference and accuracy score values before and after applying PCA dimensional reduction."
      ],
      "metadata": {
        "id": "fOX36LN2PIKn"
      }
    },
    {
      "cell_type": "markdown",
      "source": [
        "##Imports"
      ],
      "metadata": {
        "id": "dw1XjzKsPJ_X"
      }
    },
    {
      "cell_type": "code",
      "source": [
        "from sklearn.datasets import fetch_openml\n",
        "mnist = fetch_openml('mnist_784', version=1, return_X_y=True)\n",
        "\n",
        "from sklearn.decomposition import PCA\n",
        "\n",
        "from sklearn.metrics import accuracy_score\n",
        "import time\n",
        "from sklearn.linear_model import LogisticRegression\n",
        "from sklearn.preprocessing import StandardScaler\n"
      ],
      "metadata": {
        "id": "EApHW12-PJSv"
      },
      "execution_count": 31,
      "outputs": []
    },
    {
      "cell_type": "markdown",
      "source": [
        "## Initial Run\n"
      ],
      "metadata": {
        "id": "yBjGxareQFrT"
      }
    },
    {
      "cell_type": "code",
      "source": [
        "from sklearn.model_selection import train_test_split\n",
        "\n",
        "X, y = mnist\n",
        "\n",
        "X_train, X_test, y_train, y_test = train_test_split(X, y, test_size=0.2, random_state=42)\n",
        "\n",
        "scaler = StandardScaler()\n",
        "\n",
        "X_train = scaler.fit_transform(X_train)\n",
        "X_test = scaler.transform(X_test)\n"
      ],
      "metadata": {
        "id": "VX1tEpMKQ9rE"
      },
      "execution_count": 34,
      "outputs": []
    },
    {
      "cell_type": "markdown",
      "source": [],
      "metadata": {
        "id": "hP5sZGfvRZ5_"
      }
    },
    {
      "cell_type": "code",
      "source": [
        "model = LogisticRegression(max_iter=1000, solver='lbfgs', n_jobs=-1)\n",
        "\n",
        "start_time = time.time()\n",
        "\n",
        "model.fit(X_train, y_train)\n",
        "\n",
        "end_time = time.time()\n",
        "\n",
        "start_training_time = end_time - start_time\n",
        "\n",
        "start_accuracy = accuracy_score(y_test, model.predict(X_test))\n",
        "print(f\"Initial Accuracy (No PCA): {start_accuracy:.4f}\")\n",
        "print(f\"Initial Training Time (No PCA): {start_training_time:.2f} sec\")"
      ],
      "metadata": {
        "colab": {
          "base_uri": "https://localhost:8080/"
        },
        "id": "1YXaNseLQJFl",
        "outputId": "c69d298a-7940-4a81-88be-f4d1826b10a3"
      },
      "execution_count": 37,
      "outputs": [
        {
          "output_type": "stream",
          "name": "stdout",
          "text": [
            "Initial Accuracy (No PCA): 0.9154\n",
            "Initial Training Time (No PCA): 47.47 sec\n"
          ]
        }
      ]
    },
    {
      "cell_type": "markdown",
      "source": [
        "## Applying PCA dimensional reduction"
      ],
      "metadata": {
        "id": "uTXmcXzVTNgr"
      }
    },
    {
      "cell_type": "code",
      "source": [
        "pca = PCA(n_components=0.95)\n",
        "\n",
        "pca.fit(X_train)\n",
        "\n",
        "X_train_pca = pca.transform(X_train)\n",
        "X_test_pca = pca.transform(X_test)\n"
      ],
      "metadata": {
        "id": "Y2M7S2BfTSZY"
      },
      "execution_count": 38,
      "outputs": []
    },
    {
      "cell_type": "markdown",
      "source": [
        "## Running on PCA"
      ],
      "metadata": {
        "id": "GBOEJLDJT4YZ"
      }
    },
    {
      "cell_type": "code",
      "source": [
        "# Initialize logistic regression model\n",
        "model_pca = LogisticRegression(max_iter=1000, solver='lbfgs', n_jobs=-1)\n",
        "\n",
        "# Start time measurement\n",
        "start_time_pca = time.time()\n",
        "\n",
        "# Train the model\n",
        "model_pca.fit(X_train_pca, y_train)\n",
        "\n",
        "# End time measurement\n",
        "end_time_pca = time.time()\n",
        "\n",
        "# Predict on test set\n",
        "y_pred_pca = model_pca.predict(X_test_pca)\n",
        "\n",
        "# Compute accuracy\n",
        "pca_accuracy = accuracy_score(y_test, y_pred_pca)\n",
        "\n",
        "# Compute training time\n",
        "pca_training_time = end_time_pca - start_time_pca\n",
        "\n",
        "print(f\"PCA Accuracy ({0.95} components): {pca_accuracy:.4f}\")\n",
        "print(f\"PCA Training Time ({0.95} components): {pca_training_time:.2f} sec\")\n"
      ],
      "metadata": {
        "colab": {
          "base_uri": "https://localhost:8080/"
        },
        "id": "GreQHMhKT6m2",
        "outputId": "bf8393ff-2492-44b7-e9c7-6f5f1828f523"
      },
      "execution_count": 40,
      "outputs": [
        {
          "output_type": "stream",
          "name": "stdout",
          "text": [
            "PCA Accuracy (0.95 components): 0.9218\n",
            "PCA Training Time (0.95 components): 35.68 sec\n"
          ]
        }
      ]
    },
    {
      "cell_type": "markdown",
      "source": [
        "## Conclusion\n"
      ],
      "metadata": {
        "id": "hIHwuUDtUA-F"
      }
    },
    {
      "cell_type": "code",
      "source": [
        "print(f\"Initial Accuracy (No PCA): {start_accuracy:.4f}\")\n",
        "print(f\"Initial Training Time (No PCA): {start_training_time:.2f} sec\")\n",
        "\n",
        "print(f\"PCA Accuracy ({0.95} components): {pca_accuracy:.4f}\")\n",
        "print(f\"PCA Training Time ({0.95} components): {pca_training_time:.2f} sec\")\n"
      ],
      "metadata": {
        "colab": {
          "base_uri": "https://localhost:8080/"
        },
        "id": "K1XgHlXtUDPc",
        "outputId": "b65e00fa-f24c-479c-a516-13d527cf3e55"
      },
      "execution_count": 41,
      "outputs": [
        {
          "output_type": "stream",
          "name": "stdout",
          "text": [
            "Initial Accuracy (No PCA): 0.9154\n",
            "Initial Training Time (No PCA): 47.47 sec\n",
            "PCA Accuracy (0.95 components): 0.9218\n",
            "PCA Training Time (0.95 components): 35.68 sec\n"
          ]
        }
      ]
    }
  ]
}